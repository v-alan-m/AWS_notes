{
 "cells": [
  {
   "cell_type": "markdown",
   "metadata": {},
   "source": [
    "# AWS"
   ]
  },
  {
   "cell_type": "markdown",
   "metadata": {},
   "source": [
    "## Service Overview"
   ]
  },
  {
   "cell_type": "markdown",
   "metadata": {},
   "source": [
    "- EC2: Elastic Compute Cloud\n",
    "- VPC: Virtual Private Cloud\n",
    "- S3: Simple Storage Service\n",
    "- RDS: Relational Database Services\n",
    "- Route 53: DNS\n",
    "- ELB: Elastic Load Balancing\n",
    "    - Autoscaling"
   ]
  },
  {
   "cell_type": "markdown",
   "metadata": {},
   "source": [
    "## Pricing"
   ]
  },
  {
   "cell_type": "markdown",
   "metadata": {},
   "source": [
    "- Per hour billing for almost everything\n",
    "- Region specific pricing\n",
    "- term specific pricing\n",
    "    - More cost effective (total fee amount will be cheaper)"
   ]
  },
  {
   "cell_type": "markdown",
   "metadata": {},
   "source": [
    "## Why use AWS"
   ]
  },
  {
   "cell_type": "markdown",
   "metadata": {},
   "source": [
    "- Flexibility\n",
    "- Cost effectiveness\n",
    "- Scalability\n",
    "- Security"
   ]
  },
  {
   "cell_type": "markdown",
   "metadata": {},
   "source": [
    "- AWS All Services Overview:  \n",
    "https://www.youtube.com/watch?v=TkT4iFRkaZk\n",
    "<br><br>\n",
    "- Getting Started with AWS - Amazon Web Services BASICS:  \n",
    "https://www.youtube.com/watch?v=ubCNZRNjhyo"
   ]
  },
  {
   "cell_type": "markdown",
   "metadata": {},
   "source": [
    "- AWS Tutorial For Beginners - AWS Full Course:  \n",
    "https://www.youtube.com/watch?v=k1RI5locZE4"
   ]
  },
  {
   "cell_type": "markdown",
   "metadata": {},
   "source": [
    "### Times\n",
    "<br></br>\n",
    "2:06 Introduction to Cloud Computing  \n",
    "2:11 Why Cloud?  \n",
    "2:21 Before Cloud Computing  \n",
    "7:11 What is Cloud Computing?  \n",
    "7:51 Service Models  \n",
    "12:01 Deployment Model  \n",
    "13:36 Cloud Providers  \n",
    "16:56 Introduction to AWS  \n",
    "18:11 Use-Cases  \n",
    "19:31 Advantages of AWS  \n",
    "22:31 AWS Architecture  \n",
    "25:01 Domains of AWS  \n",
    "34:36 Compute Services  \n",
    "35:13 What is an Instance?  \n",
    "38:46 What is EC2?  \n",
    "46:26 Types of Instances  \n",
    "45:31 Instance Pricing Models  \n",
    "54:16 Use Case  \n",
    "1:10:16 AWS Lambda  \n",
    "1:13:31 AWS Compute Domains  \n",
    "1:15:06 Why AWS Lambda?  \n",
    "1:16:46 AWS SDKs  \n",
    "1:17:41 Using AWS Lambda  with Eclipse  \n",
    "1:18:51 Demo  \n",
    "1:41:20 AWS Elastic Beanstalk  \n",
    "1:42:00 What is AWS Elastic Beanstalk?  \n",
    "1:44:25 PaaS  \n",
    "1:47:35 Web Hosting Platforms  \n",
    "1:48:30 Features of Elastic Beanstalk  \n",
    "1:49:50 Fundamentals of Elastic Beanstalk  \n",
    "1:53:50 Architecture of Elastic Beanstalk  \n",
    "2:00:25 Demo: How to Deploy An Application Using Beanstalk  \n",
    "2:12:30 Storage Service  \n",
    "2:13:05 What is Cloud Storage?  \n",
    "2:29:50 Cloud Storage Practices  \n",
    "2:35:25 Cloud Storage Service Providers  \n",
    "3:09:50 S3 Tutorial For Beginners  \n",
    "3:13:40 Buckets & Objects  \n",
    "3:22:40 Versioning & Cross Region Replication  \n",
    "3:32:55 S3 Transfer Acceleration  \n",
    "3:40:26 Use Case: IMDB Media  \n",
    "3:43:41 Demo: AWS S3 Complete Walkthrough  \n",
    "3:44:51 Networking Services  \n",
    "3:48:16 AWS CloudFront  \n",
    "3:53:26 How AWS CloudFront Delivers Content?  \n",
    "3:56:11 Applications  \n",
    "3:58:21 Demo: AWS CloudFront Distribution  \n",
    "4:07:06 Monitoring & Management  \n",
    "4:07:11 AWS CloudWatch  \n",
    "4:07:46 Need For Cloud-Based Monitoring  \n",
    "4:11:21 What is Amazon CloudWatch?  \n",
    "4:13:31 Amazon CloudWatch  \n",
    "4:16:41 Amazon CloudWatch Demo  \n",
    "4:21:01 Amazon CloudWatch Event  \n",
    "4:24:46 Amazon CloudWatch Event Demo  \n",
    "4:32:56 Amazon CloudWatch Logs  \n",
    "4:36:46 AWS CloudFormation  \n",
    "4:40:11 Get started in AWS CloudFormation  \n",
    "4:56:21 Autoscaling & Load Balancer  \n",
    "4:57:36 Snapshots & AMIs  \n",
    "5:00:06 Why Auto Scaling?  \n",
    "5:03:46 Why Auto Scaling?  \n",
    "5:17:51 What is the Load Balancer?  \n",
    "5:19:01 Types of Load Balancers  \n",
    "5:22:06 Hands-On  \n",
    "5:34:51 Cloud Security  \n",
    "5:35:41 Why Cloud Security?  \n",
    "5:37:31 Public, Private or Hybrid?  \n",
    "5:40:56 How Secure Should you make your application?  \n",
    "5:42:56 How to Troubleshoot a Threat in the Cloud?  \n",
    "5:43:56 How did they come to know?  \n",
    "5:45:26 Cloud Security in AWS  \n",
    "5:59:29 AWS IAM  \n",
    "6:01:34 What is IAM?  \n",
    "6:26:59 Multi-Factor Authentication  \n",
    "6:33:29 Hands-On  \n",
    "6:46:04 Amazon Redshift  \n",
    "6:58:29 Demo - Setting Up A Warehouse  \n",
    "7:14:04 DevOps on AWS  \n",
    "7:14:14 AWS DevOps Services  \n",
    "7:19:54 What is Continuous Integration & Delivery?  \n",
    "7:23:44 What Is CodePipeline?  \n",
    "7:25:39 CodePipeline Architecture  \n",
    "7:28:49 Code Deploy, Code Build & Code Commit  \n",
    "7:30:59 Demo - Deploying An Application Using AWS CodePipeline  \n",
    "7:42:49 AWS Interview Question  \n",
    "7:46:44 EC2 Questions  \n",
    "8:17:29 Amazon Storage  \n",
    "8:27:34 AWS VPC  \n",
    "8:36:44 Amazon Database  \n",
    "9:00:29 Cloud Engineer Jobs, Salary, Skills, Responsibilities & Resume  \n",
    "9:01:04 Cloud Engineer Job & Salary Trends  \n",
    "9:11:14 Cloud Engineer Job Skills & Description  \n",
    "9:22:34 Cloud Engineer Resume  \n",
    "9:26:24 Cloud Master Course At Edureka  "
   ]
  },
  {
   "cell_type": "code",
   "execution_count": null,
   "metadata": {},
   "outputs": [],
   "source": []
  }
 ],
 "metadata": {
  "kernelspec": {
   "display_name": "Python 3",
   "language": "python",
   "name": "python3"
  },
  "language_info": {
   "codemirror_mode": {
    "name": "ipython",
    "version": 3
   },
   "file_extension": ".py",
   "mimetype": "text/x-python",
   "name": "python",
   "nbconvert_exporter": "python",
   "pygments_lexer": "ipython3",
   "version": "3.7.4"
  }
 },
 "nbformat": 4,
 "nbformat_minor": 2
}
